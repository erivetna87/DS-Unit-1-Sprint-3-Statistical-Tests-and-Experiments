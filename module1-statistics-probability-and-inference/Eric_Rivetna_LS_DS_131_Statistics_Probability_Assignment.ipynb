{
  "nbformat": 4,
  "nbformat_minor": 0,
  "metadata": {
    "kernelspec": {
      "display_name": "Python 3",
      "language": "python",
      "name": "python3"
    },
    "language_info": {
      "codemirror_mode": {
        "name": "ipython",
        "version": 3
      },
      "file_extension": ".py",
      "mimetype": "text/x-python",
      "name": "python",
      "nbconvert_exporter": "python",
      "pygments_lexer": "ipython3",
      "version": "3.7.3"
    },
    "colab": {
      "name": "Eric Rivetna - LS_DS_131_Statistics_Probability_Assignment.ipynb",
      "version": "0.3.2",
      "provenance": [],
      "include_colab_link": true
    }
  },
  "cells": [
    {
      "cell_type": "markdown",
      "metadata": {
        "id": "view-in-github",
        "colab_type": "text"
      },
      "source": [
        "<a href=\"https://colab.research.google.com/github/erivetna87/DS-Unit-1-Sprint-3-Statistical-Tests-and-Experiments/blob/master/module1-statistics-probability-and-inference/Eric_Rivetna_LS_DS_131_Statistics_Probability_Assignment.ipynb\" target=\"_parent\"><img src=\"https://colab.research.google.com/assets/colab-badge.svg\" alt=\"Open In Colab\"/></a>"
      ]
    },
    {
      "cell_type": "markdown",
      "metadata": {
        "id": "1lYiEx4rfSjm",
        "colab_type": "text"
      },
      "source": [
        "<img align=\"left\" src=\"https://lever-client-logos.s3.amazonaws.com/864372b1-534c-480e-acd5-9711f850815c-1524247202159.png\" width=200>\n",
        "<br></br>\n",
        "<br></br>\n",
        "\n",
        "## *Data Science Unit 1 Sprint 3 Assignment 1*\n",
        "\n",
        "# Apply the t-test to real data\n",
        "\n",
        "Your assignment is to determine which issues have \"statistically significant\" differences between political parties in this [1980s congressional voting data](https://archive.ics.uci.edu/ml/datasets/Congressional+Voting+Records). The data consists of 435 instances (one for each congressperson), a class (democrat or republican), and 16 binary attributes (yes or no for voting for or against certain issues). Be aware - there are missing values!\n",
        "\n",
        "Your goals:\n",
        "\n",
        "1. Load and clean the data (or determine the best method to drop observations when running tests)\n",
        "2. Using hypothesis testing, find an issue that democrats support more than republicans with p < 0.01\n",
        "3. Using hypothesis testing, find an issue that republicans support more than democrats with p < 0.01\n",
        "4. Using hypothesis testing, find an issue where the difference between republicans and democrats has p > 0.1 (i.e. there may not be much of a difference)\n",
        "\n",
        "Note that this data will involve *2 sample* t-tests, because you're comparing averages across two groups (republicans and democrats) rather than a single group against a null hypothesis.\n",
        "\n",
        "Stretch goals:\n",
        "\n",
        "1. Refactor your code into functions so it's easy to rerun with arbitrary variables\n",
        "2. Apply hypothesis testing to your personal project data (for the purposes of this notebook you can type a summary of the hypothesis you formed and tested)"
      ]
    },
    {
      "cell_type": "code",
      "metadata": {
        "id": "bamLhz7LfSjp",
        "colab_type": "code",
        "colab": {}
      },
      "source": [
        "import pandas as pd\n",
        "import pprint as pp\n",
        "from pandas.util.testing import assert_frame_equal\n",
        "from scipy.stats import ttest_1samp\n",
        "import matplotlib.pyplot as plt\n",
        "import numpy as np\n",
        "import seaborn as sns\n",
        "import warnings\n",
        "\n",
        "\n",
        "warnings.filterwarnings('ignore')\n",
        "pd.set_option('display.max_rows', 500)\n",
        "pd.set_option('display.max_columns', 500)\n",
        "pd.set_option('display.width', 1000)\n",
        "plt.style.use('seaborn-white')\n",
        "pd.set_option('precision', 0)\n",
        "\n",
        "url = 'https://archive.ics.uci.edu/ml/machine-learning-databases/voting-records/house-votes-84.data'\n",
        "\n",
        "df = pd.read_csv(url)\n",
        "\n",
        "df.head(1)\n",
        "\n",
        "cols = ['Class Name: 2 (democrat, republican)',\n",
        "        'handicapped-infants: 2 (y,n)',\n",
        "        'water-project-cost-sharing: 2 (y,n)',\n",
        "        'adoption-of-the-budget-resolution: 2 (y,n)',\n",
        "        'physician-fee-freeze: 2 (y,n)',\n",
        "        'el-salvador-aid: 2 (y,n)',\n",
        "        'religious-groups-in-schools: 2 (y,n)',\n",
        "        'anti-satellite-test-ban: 2 (y,n)',\n",
        "        'aid-to-nicaraguan-contras: 2 (y,n)',\n",
        "        'mx-missile: 2 (y,n)',\n",
        "        'immigration: 2 (y,n)',\n",
        "        'synfuels-corporation-cutback: 2 (y,n)',\n",
        "        'education-spending: 2 (y,n)',\n",
        "        'superfund-right-to-sue: 2 (y,n)',\n",
        "        'crime: 2 (y,n)',\n",
        "        'duty-free-exports: 2 (y,n)',\n",
        "        'export-administration-act-south-africa: 2 (y,n)']\n",
        "\n",
        "df.columns = cols\n",
        "df.rename(columns = lambda x: x.replace(': 2 (y,n)','')[0:],inplace = True)\n",
        "df.rename(columns = lambda x: x.replace('Class Name: 2 (democrat, republican)',\n",
        "                                        'Political Party')[0:],inplace = True)\n",
        "df.columns = map(str.title, df.columns)\n",
        "\n",
        "#to call column list in future cells as needed.\n",
        "cols = df.columns.get_values().tolist()\n",
        "# df.head(1)\n",
        "\n",
        "\n",
        "\n",
        "\n"
      ],
      "execution_count": 0,
      "outputs": []
    },
    {
      "cell_type": "code",
      "metadata": {
        "id": "RIEks1JgjqGh",
        "colab_type": "code",
        "outputId": "6494f0af-055f-4c1f-b3da-dbb5e9d53e49",
        "colab": {
          "base_uri": "https://localhost:8080/",
          "height": 411
        }
      },
      "source": [
        "print('Head of 1980s congressional voting data:')\n",
        "print('\\n')\n",
        "print(df.head(5))\n",
        "print('\\n')\n",
        "print('\\n')\n",
        "print('Tail of 1980s congressional voting data:')\n",
        "print('\\n')\n",
        "print(df.tail(5))\n",
        "\n",
        "\n"
      ],
      "execution_count": 850,
      "outputs": [
        {
          "output_type": "stream",
          "text": [
            "Head of 1980s congressional voting data:\n",
            "\n",
            "\n",
            "  Political Party Handicapped-Infants Water-Project-Cost-Sharing Adoption-Of-The-Budget-Resolution Physician-Fee-Freeze El-Salvador-Aid Religious-Groups-In-Schools Anti-Satellite-Test-Ban Aid-To-Nicaraguan-Contras Mx-Missile Immigration Synfuels-Corporation-Cutback Education-Spending Superfund-Right-To-Sue Crime Duty-Free-Exports Export-Administration-Act-South-Africa\n",
            "0      republican                   n                          y                                 n                    y               y                           y                       n                         n          n           n                            n                  y                      y     y                 n                                      ?\n",
            "1        democrat                   ?                          y                                 y                    ?               y                           y                       n                         n          n           n                            y                  n                      y     y                 n                                      n\n",
            "2        democrat                   n                          y                                 y                    n               ?                           y                       n                         n          n           n                            y                  n                      y     n                 n                                      y\n",
            "3        democrat                   y                          y                                 y                    n               y                           y                       n                         n          n           n                            y                  ?                      y     y                 y                                      y\n",
            "4        democrat                   n                          y                                 y                    n               y                           y                       n                         n          n           n                            n                  n                      y     y                 y                                      y\n",
            "\n",
            "\n",
            "\n",
            "\n",
            "Tail of 1980s congressional voting data:\n",
            "\n",
            "\n",
            "    Political Party Handicapped-Infants Water-Project-Cost-Sharing Adoption-Of-The-Budget-Resolution Physician-Fee-Freeze El-Salvador-Aid Religious-Groups-In-Schools Anti-Satellite-Test-Ban Aid-To-Nicaraguan-Contras Mx-Missile Immigration Synfuels-Corporation-Cutback Education-Spending Superfund-Right-To-Sue Crime Duty-Free-Exports Export-Administration-Act-South-Africa\n",
            "429      republican                   n                          n                                 y                    y               y                           y                       n                         n          y           y                            n                  y                      y     y                 n                                      y\n",
            "430        democrat                   n                          n                                 y                    n               n                           n                       y                         y          y           y                            n                  n                      n     n                 n                                      y\n",
            "431      republican                   n                          ?                                 n                    y               y                           y                       n                         n          n           n                            y                  y                      y     y                 n                                      y\n",
            "432      republican                   n                          n                                 n                    y               y                           y                       ?                         ?          ?           ?                            n                  y                      y     y                 n                                      y\n",
            "433      republican                   n                          y                                 n                    y               y                           y                       n                         n          n           y                            n                  y                      y     y                 ?                                      n\n"
          ],
          "name": "stdout"
        }
      ]
    },
    {
      "cell_type": "code",
      "metadata": {
        "id": "QHq3Z7hDorL_",
        "colab_type": "code",
        "outputId": "69f884a2-7aa2-4ab2-e83a-1a6aaf8a6753",
        "colab": {
          "base_uri": "https://localhost:8080/",
          "height": 323
        }
      },
      "source": [
        "#Checking for null values\n",
        "df.isnull().sum()"
      ],
      "execution_count": 851,
      "outputs": [
        {
          "output_type": "execute_result",
          "data": {
            "text/plain": [
              "Political Party                           0\n",
              "Handicapped-Infants                       0\n",
              "Water-Project-Cost-Sharing                0\n",
              "Adoption-Of-The-Budget-Resolution         0\n",
              "Physician-Fee-Freeze                      0\n",
              "El-Salvador-Aid                           0\n",
              "Religious-Groups-In-Schools               0\n",
              "Anti-Satellite-Test-Ban                   0\n",
              "Aid-To-Nicaraguan-Contras                 0\n",
              "Mx-Missile                                0\n",
              "Immigration                               0\n",
              "Synfuels-Corporation-Cutback              0\n",
              "Education-Spending                        0\n",
              "Superfund-Right-To-Sue                    0\n",
              "Crime                                     0\n",
              "Duty-Free-Exports                         0\n",
              "Export-Administration-Act-South-Africa    0\n",
              "dtype: int64"
            ]
          },
          "metadata": {
            "tags": []
          },
          "execution_count": 851
        }
      ]
    },
    {
      "cell_type": "code",
      "metadata": {
        "id": "O7KODk7ppHB5",
        "colab_type": "code",
        "outputId": "82e44a7f-e64a-4aba-89d8-1ff3f4ad380f",
        "colab": {
          "base_uri": "https://localhost:8080/",
          "height": 306
        }
      },
      "source": [
        "#Looking at all Unique Values in each df series\n",
        "[df[str(i)].unique() for i in cols]"
      ],
      "execution_count": 852,
      "outputs": [
        {
          "output_type": "execute_result",
          "data": {
            "text/plain": [
              "[array(['republican', 'democrat'], dtype=object),\n",
              " array(['n', '?', 'y'], dtype=object),\n",
              " array(['y', 'n', '?'], dtype=object),\n",
              " array(['n', 'y', '?'], dtype=object),\n",
              " array(['y', '?', 'n'], dtype=object),\n",
              " array(['y', '?', 'n'], dtype=object),\n",
              " array(['y', 'n', '?'], dtype=object),\n",
              " array(['n', 'y', '?'], dtype=object),\n",
              " array(['n', 'y', '?'], dtype=object),\n",
              " array(['n', 'y', '?'], dtype=object),\n",
              " array(['n', 'y', '?'], dtype=object),\n",
              " array(['n', 'y', '?'], dtype=object),\n",
              " array(['y', 'n', '?'], dtype=object),\n",
              " array(['y', '?', 'n'], dtype=object),\n",
              " array(['y', 'n', '?'], dtype=object),\n",
              " array(['n', 'y', '?'], dtype=object),\n",
              " array(['?', 'n', 'y'], dtype=object)]"
            ]
          },
          "metadata": {
            "tags": []
          },
          "execution_count": 852
        }
      ]
    },
    {
      "cell_type": "code",
      "metadata": {
        "id": "rcoQqMGNr6Y6",
        "colab_type": "code",
        "colab": {}
      },
      "source": [
        "df.replace({'?':np.NaN,'y': 1,'n':0},inplace=True)"
      ],
      "execution_count": 0,
      "outputs": []
    },
    {
      "cell_type": "code",
      "metadata": {
        "id": "UzutqUSpjqJ3",
        "colab_type": "code",
        "outputId": "4d6add70-768c-41fe-b59a-0c1f3eb42ae7",
        "colab": {
          "base_uri": "https://localhost:8080/",
          "height": 323
        }
      },
      "source": [
        "#Second check for null values - NaN will be dropped in statistical analysis\n",
        "df.isnull().sum()"
      ],
      "execution_count": 854,
      "outputs": [
        {
          "output_type": "execute_result",
          "data": {
            "text/plain": [
              "Political Party                             0\n",
              "Handicapped-Infants                        12\n",
              "Water-Project-Cost-Sharing                 48\n",
              "Adoption-Of-The-Budget-Resolution          11\n",
              "Physician-Fee-Freeze                       11\n",
              "El-Salvador-Aid                            15\n",
              "Religious-Groups-In-Schools                11\n",
              "Anti-Satellite-Test-Ban                    14\n",
              "Aid-To-Nicaraguan-Contras                  15\n",
              "Mx-Missile                                 22\n",
              "Immigration                                 7\n",
              "Synfuels-Corporation-Cutback               20\n",
              "Education-Spending                         31\n",
              "Superfund-Right-To-Sue                     25\n",
              "Crime                                      17\n",
              "Duty-Free-Exports                          28\n",
              "Export-Administration-Act-South-Africa    104\n",
              "dtype: int64"
            ]
          },
          "metadata": {
            "tags": []
          },
          "execution_count": 854
        }
      ]
    },
    {
      "cell_type": "code",
      "metadata": {
        "id": "2GMkgirMvgq9",
        "colab_type": "code",
        "colab": {}
      },
      "source": [
        "#Separating party lines in DataFrames\n",
        "\n",
        "rep = df[df['Political Party'] == 'republican']"
      ],
      "execution_count": 0,
      "outputs": []
    },
    {
      "cell_type": "code",
      "metadata": {
        "id": "iqFTGVZjvgzP",
        "colab_type": "code",
        "colab": {}
      },
      "source": [
        "dem = df[df['Political Party'] == 'democrat']"
      ],
      "execution_count": 0,
      "outputs": []
    },
    {
      "cell_type": "code",
      "metadata": {
        "id": "UVVIC32Avg1-",
        "colab_type": "code",
        "outputId": "eddfb747-9225-413c-d8ba-1dccbf71d2b0",
        "colab": {
          "base_uri": "https://localhost:8080/",
          "height": 85
        }
      },
      "source": [
        "df_assert = rep + dem\n",
        "\n",
        "if df.shape == df_assert.shape:\n",
        "  print(df['Political Party'].value_counts())\n",
        "  print('Combined DataFrames are Equal to Original DataFrame')\n",
        "else:\n",
        "  print('DataFrames not Equal')\n"
      ],
      "execution_count": 857,
      "outputs": [
        {
          "output_type": "stream",
          "text": [
            "democrat      267\n",
            "republican    167\n",
            "Name: Political Party, dtype: int64\n",
            "Combined DataFrames are Equal to Original DataFrame\n"
          ],
          "name": "stdout"
        }
      ]
    },
    {
      "cell_type": "markdown",
      "metadata": {
        "id": "LeEIjCzE26se",
        "colab_type": "text"
      },
      "source": [
        "# Political Party T-test\n"
      ]
    },
    {
      "cell_type": "code",
      "metadata": {
        "id": "1RqYBAl4vg43",
        "colab_type": "code",
        "outputId": "2651943f-e644-431f-c95b-9c1f35559cb4",
        "colab": {
          "base_uri": "https://localhost:8080/",
          "height": 34
        }
      },
      "source": [
        "rep['Handicapped-Infants'].mean()"
      ],
      "execution_count": 858,
      "outputs": [
        {
          "output_type": "execute_result",
          "data": {
            "text/plain": [
              "0.18902439024390244"
            ]
          },
          "metadata": {
            "tags": []
          },
          "execution_count": 858
        }
      ]
    },
    {
      "cell_type": "code",
      "metadata": {
        "id": "DSpEbtycvg7W",
        "colab_type": "code",
        "colab": {
          "base_uri": "https://localhost:8080/",
          "height": 748
        },
        "outputId": "70311d86-a831-471c-8d75-c66c5b5771af"
      },
      "source": [
        "# Null Hypothesis: Republican support is evenly divided\n",
        "# Alternative: Republican support is not evenly divided.\n",
        "pp.pprint([str(i) + ' 1 samp t-test: ' + str(ttest_1samp(rep[str(i)], .5, nan_policy='omit')) for i in cols[1:]])\n",
        "\n",
        "  "
      ],
      "execution_count": 859,
      "outputs": [
        {
          "output_type": "stream",
          "text": [
            "['Handicapped-Infants 1 samp t-test: '\n",
            " 'Ttest_1sampResult(statistic=-10.14045193578877, '\n",
            " 'pvalue=4.848137183614312e-19)',\n",
            " 'Water-Project-Cost-Sharing 1 samp t-test: '\n",
            " 'Ttest_1sampResult(statistic=0.08219949365267874, pvalue=0.9346006601350887)',\n",
            " 'Adoption-Of-The-Budget-Resolution 1 samp t-test: '\n",
            " 'Ttest_1sampResult(statistic=-13.597328074086908, '\n",
            " 'pvalue=1.400603202875075e-28)',\n",
            " 'Physician-Fee-Freeze 1 samp t-test: '\n",
            " 'Ttest_1sampResult(statistic=56.74286815468313, '\n",
            " 'pvalue=2.907577352774837e-109)',\n",
            " 'El-Salvador-Aid 1 samp t-test: '\n",
            " 'Ttest_1sampResult(statistic=26.743499090241418, pvalue=1.6943192044621e-61)',\n",
            " 'Religious-Groups-In-Schools 1 samp t-test: '\n",
            " 'Ttest_1sampResult(statistic=16.722758024023662, '\n",
            " 'pvalue=2.8338200332433206e-37)',\n",
            " 'Anti-Satellite-Test-Ban 1 samp t-test: '\n",
            " 'Ttest_1sampResult(statistic=-7.610196474080465, '\n",
            " 'pvalue=2.220472808251682e-12)',\n",
            " 'Aid-To-Nicaraguan-Contras 1 samp t-test: '\n",
            " 'Ttest_1sampResult(statistic=-11.944473807809807, '\n",
            " 'pvalue=9.977147410889124e-24)',\n",
            " 'Mx-Missile 1 samp t-test: Ttest_1sampResult(statistic=-15.324049637014262, '\n",
            " 'pvalue=2.118837978319551e-33)',\n",
            " 'Immigration 1 samp t-test: Ttest_1sampResult(statistic=1.4097892200750772, '\n",
            " 'pvalue=0.1605071233793234)',\n",
            " 'Synfuels-Corporation-Cutback 1 samp t-test: '\n",
            " 'Ttest_1sampResult(statistic=-13.659513100277254, '\n",
            " 'pvalue=1.5157657361710158e-28)',\n",
            " 'Education-Spending 1 samp t-test: '\n",
            " 'Ttest_1sampResult(statistic=13.619249436877226, '\n",
            " 'pvalue=3.601220495290207e-28)',\n",
            " 'Superfund-Right-To-Sue 1 samp t-test: '\n",
            " 'Ttest_1sampResult(statistic=12.94888942626886, '\n",
            " 'pvalue=1.6608038020383106e-26)',\n",
            " 'Crime 1 samp t-test: Ttest_1sampResult(statistic=44.73823369490717, '\n",
            " 'pvalue=5.3801956563729246e-92)',\n",
            " 'Duty-Free-Exports 1 samp t-test: '\n",
            " 'Ttest_1sampResult(statistic=-17.736197310456962, '\n",
            " 'pvalue=4.8074899451756316e-39)',\n",
            " 'Export-Administration-Act-South-Africa 1 samp t-test: '\n",
            " 'Ttest_1sampResult(statistic=3.9175717505940626, '\n",
            " 'pvalue=0.0001377094262068089)']\n"
          ],
          "name": "stdout"
        }
      ]
    },
    {
      "cell_type": "code",
      "metadata": {
        "id": "ft6ToiUWxpqU",
        "colab_type": "code",
        "colab": {
          "base_uri": "https://localhost:8080/",
          "height": 748
        },
        "outputId": "f7b3b76a-484e-4beb-e8b4-27b7e05a5d42"
      },
      "source": [
        "# Null Hypothesis: There is 0 support for bills among Republicans in the House\n",
        "# Alternative: There is non-0 support (some support) for some bills\n",
        "pp.pprint([str(i) + ' 1 samp t-test: ' + str(ttest_1samp(rep[str(i)], 0, nan_policy='omit')) for i in cols[1:]])"
      ],
      "execution_count": 860,
      "outputs": [
        {
          "output_type": "stream",
          "text": [
            "['Handicapped-Infants 1 samp t-test: '\n",
            " 'Ttest_1sampResult(statistic=6.163804117832389, pvalue=5.375393477765494e-09)',\n",
            " 'Water-Project-Cost-Sharing 1 samp t-test: '\n",
            " 'Ttest_1sampResult(statistic=12.16552506059644, '\n",
            " 'pvalue=5.9376882505675456e-24)',\n",
            " 'Adoption-Of-The-Budget-Resolution 1 samp t-test: '\n",
            " 'Ttest_1sampResult(statistic=5.027583489578352, '\n",
            " 'pvalue=1.3042608973305829e-06)',\n",
            " 'Physician-Fee-Freeze 1 samp t-test: '\n",
            " 'Ttest_1sampResult(statistic=114.90430801323333, '\n",
            " 'pvalue=6.637172822355131e-158)',\n",
            " 'El-Salvador-Aid 1 samp t-test: '\n",
            " 'Ttest_1sampResult(statistic=56.378187271319746, '\n",
            " 'pvalue=7.906153477470814e-109)',\n",
            " 'Religious-Groups-In-Schools 1 samp t-test: '\n",
            " 'Ttest_1sampResult(statistic=37.78577385580919, pvalue=7.590936296107066e-83)',\n",
            " 'Anti-Satellite-Test-Ban 1 samp t-test: '\n",
            " 'Ttest_1sampResult(statistic=7.151750903352727, '\n",
            " 'pvalue=2.8958659572948416e-11)',\n",
            " 'Aid-To-Nicaraguan-Contras 1 samp t-test: '\n",
            " 'Ttest_1sampResult(statistic=5.308655025693248, '\n",
            " 'pvalue=3.7650643598302315e-07)',\n",
            " 'Mx-Missile 1 samp t-test: Ttest_1sampResult(statistic=4.6215387794169995, '\n",
            " 'pvalue=7.704678307294486e-06)',\n",
            " 'Immigration 1 samp t-test: Ttest_1sampResult(statistic=14.25453544742577, '\n",
            " 'pvalue=1.870829232879815e-30)',\n",
            " 'Synfuels-Corporation-Cutback 1 samp t-test: '\n",
            " 'Ttest_1sampResult(statistic=4.903414959073885, '\n",
            " 'pvalue=2.3188606914425685e-06)',\n",
            " 'Education-Spending 1 samp t-test: '\n",
            " 'Ttest_1sampResult(statistic=32.01718288669383, '\n",
            " 'pvalue=1.0522889209408503e-69)',\n",
            " 'Superfund-Right-To-Sue 1 samp t-test: '\n",
            " 'Ttest_1sampResult(statistic=30.939824292854794, '\n",
            " 'pvalue=1.8442259829446367e-68)',\n",
            " 'Crime 1 samp t-test: Ttest_1sampResult(statistic=91.2195154558497, '\n",
            " 'pvalue=3.222689142396686e-139)',\n",
            " 'Duty-Free-Exports 1 samp t-test: '\n",
            " 'Ttest_1sampResult(statistic=3.9103427141164957, '\n",
            " 'pvalue=0.0001378308753112339)',\n",
            " 'Export-Administration-Act-South-Africa 1 samp t-test: '\n",
            " 'Ttest_1sampResult(statistic=16.540858502508268, '\n",
            " 'pvalue=4.165040658384989e-35)']\n"
          ],
          "name": "stdout"
        }
      ]
    },
    {
      "cell_type": "code",
      "metadata": {
        "id": "cxGRPQSovg-D",
        "colab_type": "code",
        "colab": {}
      },
      "source": [
        ""
      ],
      "execution_count": 0,
      "outputs": []
    },
    {
      "cell_type": "code",
      "metadata": {
        "id": "FfO8Qda5vhAl",
        "colab_type": "code",
        "colab": {}
      },
      "source": [
        ""
      ],
      "execution_count": 0,
      "outputs": []
    },
    {
      "cell_type": "code",
      "metadata": {
        "id": "Eb1-ka9mvhDY",
        "colab_type": "code",
        "colab": {}
      },
      "source": [
        ""
      ],
      "execution_count": 0,
      "outputs": []
    },
    {
      "cell_type": "code",
      "metadata": {
        "id": "9lhDwQxbvhGW",
        "colab_type": "code",
        "colab": {}
      },
      "source": [
        ""
      ],
      "execution_count": 0,
      "outputs": []
    },
    {
      "cell_type": "code",
      "metadata": {
        "id": "_tv_UzHdvhJR",
        "colab_type": "code",
        "colab": {}
      },
      "source": [
        ""
      ],
      "execution_count": 0,
      "outputs": []
    }
  ]
}